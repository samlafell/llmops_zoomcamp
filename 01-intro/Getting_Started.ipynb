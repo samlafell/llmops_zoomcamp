{
 "cells": [
  {
   "cell_type": "code",
   "execution_count": 2,
   "id": "7ad9f493-09ca-4bd3-8e0e-58175611171a",
   "metadata": {},
   "outputs": [],
   "source": [
    "from openai import OpenAI"
   ]
  },
  {
   "cell_type": "code",
   "execution_count": 4,
   "id": "358494c6-605f-4539-acd3-0dc471314c93",
   "metadata": {},
   "outputs": [],
   "source": [
    "client = OpenAI() # has OpenAI_API_Key in env vars"
   ]
  },
  {
   "cell_type": "code",
   "execution_count": 13,
   "id": "0036ad98-fa16-4131-b45a-ea64a2e314a9",
   "metadata": {},
   "outputs": [],
   "source": [
    "response = client.chat.completions.create(\n",
    "    model = 'gpt-4o',\n",
    "    messages = [{\n",
    "        \"role\":\"user\",\n",
    "        \"content\":\"is it too late to join the course?\"\n",
    "    }]\n",
    ")"
   ]
  },
  {
   "cell_type": "code",
   "execution_count": 15,
   "id": "2bb4fc17-5e00-4928-afe4-18011d9d0b7d",
   "metadata": {},
   "outputs": [
    {
     "data": {
      "text/plain": [
       "\"It's difficult to provide a specific answer without knowing the details of the course you're referring to. However, here are a few general steps you can take:\\n\\n1. **Check Enrollment Deadlines:** Many courses will have a specific enrollment period. Check the course's website or contact the course administrators for information on the enrollment deadlines.\\n\\n2. **Contact the Instructor or Administration:** Even if the official enrollment period has passed, sometimes instructors or course administrators can make exceptions. It’s always worth asking.\\n\\n3. **Consider Next Offering:** If it's too late for the current session, ask if and when the course will be offered again. You might be able to enroll in the next session.\\n\\n4. **Look for Similar Options:** If this course is part of a larger program or offered by a reputable institution, there may be other similar courses that you can take as an alternative.\\n\\n5. **Online Resources:** If it’s a topic you’re eager to learn about, there may be online resources or other courses available that cover similar material.\\n\\nWould you like more specific information or tips based on a particular type of course?\""
      ]
     },
     "execution_count": 15,
     "metadata": {},
     "output_type": "execute_result"
    }
   ],
   "source": [
    "response.choices[0].message.content"
   ]
  },
  {
   "cell_type": "code",
   "execution_count": null,
   "id": "f8e5d58d-7267-49ff-8fbe-a44b83c71a98",
   "metadata": {},
   "outputs": [],
   "source": []
  }
 ],
 "metadata": {
  "kernelspec": {
   "display_name": "Python 3 (ipykernel)",
   "language": "python",
   "name": "python3"
  },
  "language_info": {
   "codemirror_mode": {
    "name": "ipython",
    "version": 3
   },
   "file_extension": ".py",
   "mimetype": "text/x-python",
   "name": "python",
   "nbconvert_exporter": "python",
   "pygments_lexer": "ipython3",
   "version": "3.10.13"
  }
 },
 "nbformat": 4,
 "nbformat_minor": 5
}
